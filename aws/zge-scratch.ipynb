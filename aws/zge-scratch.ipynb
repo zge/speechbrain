{
 "cells": [
  {
   "cell_type": "code",
   "execution_count": 6,
   "id": "b671ad9e-aede-44ff-bc5b-a0f17b6bf732",
   "metadata": {},
   "outputs": [
    {
     "ename": "ModuleNotFoundError",
     "evalue": "No module named 'torchaudio'",
     "output_type": "error",
     "traceback": [
      "\u001b[0;31m---------------------------------------------------------------------------\u001b[0m",
      "\u001b[0;31mModuleNotFoundError\u001b[0m                       Traceback (most recent call last)",
      "\u001b[0;32m<ipython-input-6-1499c7f822a0>\u001b[0m in \u001b[0;36m<module>\u001b[0;34m\u001b[0m\n\u001b[1;32m      1\u001b[0m \u001b[0;32mimport\u001b[0m \u001b[0mos\u001b[0m\u001b[0;34m\u001b[0m\u001b[0;34m\u001b[0m\u001b[0m\n\u001b[1;32m      2\u001b[0m \u001b[0;32mimport\u001b[0m \u001b[0mtorch\u001b[0m\u001b[0;34m\u001b[0m\u001b[0;34m\u001b[0m\u001b[0m\n\u001b[0;32m----> 3\u001b[0;31m \u001b[0;32mimport\u001b[0m \u001b[0mtorchaudio\u001b[0m\u001b[0;34m\u001b[0m\u001b[0;34m\u001b[0m\u001b[0m\n\u001b[0m\u001b[1;32m      4\u001b[0m \u001b[0;32mimport\u001b[0m \u001b[0mboto3\u001b[0m\u001b[0;34m\u001b[0m\u001b[0;34m\u001b[0m\u001b[0m\n\u001b[1;32m      5\u001b[0m \u001b[0;32mimport\u001b[0m \u001b[0mbotocore\u001b[0m\u001b[0;34m\u001b[0m\u001b[0;34m\u001b[0m\u001b[0m\n",
      "\u001b[0;31mModuleNotFoundError\u001b[0m: No module named 'torchaudio'"
     ]
    }
   ],
   "source": [
    "import os\n",
    "import torch\n",
    "import torchaudio\n",
    "import boto3\n",
    "import botocore"
   ]
  },
  {
   "cell_type": "code",
   "execution_count": 3,
   "id": "77664b81-06dd-4163-bd7d-2354fd66c8d5",
   "metadata": {},
   "outputs": [
    {
     "name": "stdout",
     "output_type": "stream",
     "text": [
      "torch version: 1.10.0+cu102\n",
      "torchaudio version: 0.10.0+cu102\n"
     ]
    }
   ],
   "source": [
    "# check the torch and torchaudio version\n",
    "print('torch version: {}'.format(torch.__version__))\n",
    "print('torchaudio version: {}'.format(torchaudio.__version__))"
   ]
  },
  {
   "cell_type": "code",
   "execution_count": null,
   "id": "4a08f826-ac52-4be0-9f25-e975f7dcdf25",
   "metadata": {},
   "outputs": [],
   "source": [
    "def is_file_exist_s3(bucket_name, file_path_s3):\n",
    "    # check if file exist in S3\n",
    "    s3_resource = boto3.resource('s3')\n",
    "\n",
    "    try: \n",
    "        s3_resource.Object(bucket_name, file_path_s3).load()\n",
    "    except botocore.exception.ClientError as e:\n",
    "        flag = False\n",
    "        if e.response['Error']['Code'] == '404':\n",
    "            print('file {} does NOT exist in S3 bucket {}.'.format(file_path_s3, bucket_name))\n",
    "        else:\n",
    "            print('something else has gone wrong.')\n",
    "    else:\n",
    "        print('file {} exists in S3 bucket {}'.format(file_path_s3, bucket_name))\n",
    "        flag = True\n",
    "    return flag"
   ]
  },
  {
   "cell_type": "code",
   "execution_count": null,
   "id": "d3968e5d-38ec-48af-81b2-cac275a30316",
   "metadata": {},
   "outputs": [],
   "source": [
    "# specify the bucket name\n",
    "bucket_name = 'zge-exp'\n",
    "\n",
    "# specify the S3 file path to the file to be downloaded\n",
    "file_path_s3 = 'data/cv-corpus-8.0-2022-01-19/fr/clips/common_voice_fr_27042964.mp3'"
   ]
  },
  {
   "cell_type": "code",
   "execution_count": null,
   "id": "3c549f22-4713-4563-811f-e5af78a5e6f8",
   "metadata": {},
   "outputs": [],
   "source": [
    "flag = is_file_exist_s3(bucket_name, file_path_s3)"
   ]
  },
  {
   "cell_type": "code",
   "execution_count": null,
   "id": "7ed90ca2-08de-4b27-81e5-ec3721e7bf6a",
   "metadata": {},
   "outputs": [],
   "source": [
    "# specify the local file path\n",
    "local_dir = 'tmp'\n",
    "os.makedirs(local_dir, exist_ok=True)\n",
    "file_name = 'test.mp3'\n",
    "local_file_path = os.path.join(local_dir, file_name)\n",
    "print('local file path: {}'.format(local_file_path))"
   ]
  },
  {
   "cell_type": "code",
   "execution_count": null,
   "id": "d8548741-ed79-4cd5-bfeb-df9fe8bb6262",
   "metadata": {},
   "outputs": [],
   "source": [
    "# setup s3 client\n",
    "s3_client = boto3.client('s3')"
   ]
  },
  {
   "cell_type": "code",
   "execution_count": null,
   "id": "6f5820c9-aab8-4311-9031-c1d1bb99a485",
   "metadata": {},
   "outputs": [],
   "source": [
    "# download file using s3 client\n",
    "s3_client.download_file(bucket_name, file_path_s3, local_file_path)"
   ]
  },
  {
   "cell_type": "code",
   "execution_count": null,
   "id": "3df983f1-1e08-47fd-ba03-f5343d13ef35",
   "metadata": {},
   "outputs": [],
   "source": [
    "# load audio file from S3 (without downloading)\n",
    "response = s3_client.get_object(Bucket=bucket_name, Key=file_path_s3)\n",
    "waveform, sample_rate = torchaudio.load(response['Body'], format='mp3')"
   ]
  },
  {
   "cell_type": "raw",
   "id": "034acb8a-0cc2-4fef-ad34-e78cd6c65388",
   "metadata": {},
   "source": [
    "file_path_bucket = 's3://{}'.format(os.path.join(bucket_name, file_path_s3))\n",
    "print('s3 bucket path: {}'.format(file_path_bucket))"
   ]
  },
  {
   "cell_type": "code",
   "execution_count": 3,
   "id": "1e10c171-417f-4a2f-9618-878c8dd34a3a",
   "metadata": {},
   "outputs": [
    {
     "name": "stdout",
     "output_type": "stream",
     "text": [
      "s3://zge-exp/data/cv-corpus-8.0-2022-01-19/fr/clips/common_voice_fr_27042964.mp3\n"
     ]
    }
   ],
   "source": [
    "print(waveforms_obj)"
   ]
  },
  {
   "cell_type": "code",
   "execution_count": null,
   "id": "6f8d48da-5b41-4dca-83af-5b6f11d730a3",
   "metadata": {},
   "outputs": [],
   "source": []
  }
 ],
 "metadata": {
  "instance_type": "ml.t3.medium",
  "kernelspec": {
   "display_name": "Python 3 (PyTorch 1.10 Python 3.8 GPU Optimized)",
   "language": "python",
   "name": "python3__SAGEMAKER_INTERNAL__arn:aws:sagemaker:us-west-2:236514542706:image/pytorch-1.10-gpu-py38"
  },
  "language_info": {
   "codemirror_mode": {
    "name": "ipython",
    "version": 3
   },
   "file_extension": ".py",
   "mimetype": "text/x-python",
   "name": "python",
   "nbconvert_exporter": "python",
   "pygments_lexer": "ipython3",
   "version": "3.8.10"
  }
 },
 "nbformat": 4,
 "nbformat_minor": 5
}
